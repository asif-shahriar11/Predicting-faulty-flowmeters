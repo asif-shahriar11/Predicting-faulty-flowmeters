{
  "nbformat": 4,
  "nbformat_minor": 0,
  "metadata": {
    "colab": {
      "provenance": [],
      "include_colab_link": true
    },
    "kernelspec": {
      "name": "python3",
      "display_name": "Python 3"
    },
    "language_info": {
      "name": "python"
    }
  },
  "cells": [
    {
      "cell_type": "markdown",
      "metadata": {
        "id": "view-in-github",
        "colab_type": "text"
      },
      "source": [
        "<a href=\"https://colab.research.google.com/github/TamimEhsan/internship-nwpgcl/blob/master/Task%201/Task_1.ipynb\" target=\"_parent\"><img src=\"https://colab.research.google.com/assets/colab-badge.svg\" alt=\"Open In Colab\"/></a>"
      ]
    },
    {
      "cell_type": "code",
      "execution_count": null,
      "metadata": {
        "colab": {
          "base_uri": "https://localhost:8080/"
        },
        "id": "agS2F0vCUF81",
        "outputId": "b67d6170-84c3-48ec-9ad8-80e27321fc64"
      },
      "outputs": [
        {
          "output_type": "stream",
          "name": "stdout",
          "text": [
            "['.config', '.ipynb_checkpoints', 'Input', 'sample_data']\n",
            "Setup Complete\n"
          ]
        }
      ],
      "source": [
        "# Set up code checking\n",
        "import os\n",
        "if not os.path.exists(\"Input/input.csv\"):\n",
        "  print(\"error\")\n",
        "print(os.listdir())\n",
        "print(\"Setup Complete\")"
      ]
    },
    {
      "cell_type": "code",
      "source": [],
      "metadata": {
        "id": "AvDORbDvks4L"
      },
      "execution_count": null,
      "outputs": []
    },
    {
      "cell_type": "code",
      "source": [
        "import numpy as np\n",
        "import pandas as pd\n",
        "\n",
        "data = pd.read_csv('Input/input.csv')\n",
        "# print(data.head())\n",
        "y = data.fault\n",
        "X = data.copy()\n",
        "X = X.drop(X.columns[-1], axis=1)\n",
        "X_main = X.copy()\n",
        "y_main = y.copy()\n",
        "print(data.shape)\n",
        "print(X.shape)\n",
        "print(y.shape)\n"
      ],
      "metadata": {
        "colab": {
          "base_uri": "https://localhost:8080/"
        },
        "id": "Xalzt3erWfIH",
        "outputId": "28943275-1a53-4bc2-8a68-2369c9bd7744"
      },
      "execution_count": null,
      "outputs": [
        {
          "output_type": "stream",
          "name": "stdout",
          "text": [
            "(87, 37)\n",
            "(87, 36)\n",
            "(87,)\n"
          ]
        }
      ]
    },
    {
      "cell_type": "code",
      "source": [
        "# Support Vector Machine\n",
        "from sklearn.model_selection import train_test_split\n",
        "\n",
        "X_training, X_testing, y_training, y_testing = train_test_split(\n",
        "    X_main, y_main, test_size=0.4,random_state=42\n",
        ")\n",
        "from sklearn import svm\n",
        "\n",
        "model = svm.SVC(kernel=\"rbf\")\n",
        "\n",
        "model.fit(X_training, y_training)\n",
        "\n",
        "predictions = model.predict(X_testing)\n",
        "\n",
        "from sklearn.metrics import accuracy_score\n",
        "acc = accuracy_score(y_testing, predictions)\n",
        "\n",
        "print(acc)\n",
        "\n",
        "from sklearn.metrics import confusion_matrix\n",
        "from sklearn.metrics import ConfusionMatrixDisplay\n",
        "\n",
        "cm = confusion_matrix(y_testing, predictions)\n",
        "cm_display = ConfusionMatrixDisplay(cm).plot()"
      ],
      "metadata": {
        "id": "_8EIgclHY-VF",
        "colab": {
          "base_uri": "https://localhost:8080/",
          "height": 466
        },
        "outputId": "4d39b1c9-bcf4-4820-93d1-bb8d0e2c0b22"
      },
      "execution_count": null,
      "outputs": [
        {
          "output_type": "stream",
          "name": "stdout",
          "text": [
            "0.5428571428571428\n"
          ]
        },
        {
          "output_type": "display_data",
          "data": {
            "text/plain": [
              "<Figure size 640x480 with 2 Axes>"
            ],
            "image/png": "[encoded data removed]"
          },
          "metadata": {}
        }
      ]
    },
    {
      "cell_type": "code",
      "source": [
        "# K fold classification\n",
        "from sklearn.model_selection import KFold\n",
        "from sklearn.model_selection import cross_val_score\n",
        "cv = KFold(n_splits=3, shuffle=True, random_state=42)\n",
        "val_score = cross_val_score(model, X=X, y=y, cv=cv)\n",
        "\n",
        "print(val_score)"
      ],
      "metadata": {
        "id": "v3EpVOfJbbLx",
        "colab": {
          "base_uri": "https://localhost:8080/"
        },
        "outputId": "0e826afb-ee4b-45ae-9653-610ecf7b45b9"
      },
      "execution_count": null,
      "outputs": [
        {
          "output_type": "stream",
          "name": "stdout",
          "text": [
            "[0.51724138 0.62068966 0.65517241]\n"
          ]
        }
      ]
    },
    {
      "cell_type": "code",
      "source": [
        "from sklearn.model_selection import cross_val_score\n",
        "clf = svm.SVC(kernel='linear', C=1, random_state=42)\n",
        "scores = cross_val_score(clf, X, y, cv=3)\n",
        "print(scores)"
      ],
      "metadata": {
        "id": "AJ5ocqpAeXYm",
        "outputId": "2540aa76-3354-49d1-cffa-c3871b31996c",
        "colab": {
          "base_uri": "https://localhost:8080/"
        }
      },
      "execution_count": null,
      "outputs": [
        {
          "output_type": "stream",
          "name": "stdout",
          "text": [
            "[0.62068966 0.65517241 0.62068966]\n"
          ]
        }
      ]
    },
    {
      "cell_type": "code",
      "source": [
        "# logistics regression\n",
        "from sklearn.linear_model import LogisticRegression\n",
        "from sklearn.model_selection import train_test_split\n",
        "\n",
        "X_training, X_testing, y_training, y_testing = train_test_split(\n",
        "    X_main, y_main, test_size=0.4,random_state=42\n",
        ")\n",
        "model = LogisticRegression(solver='liblinear', random_state=42)\n",
        "model.fit(X_training, y_training)\n",
        "\n",
        "predictions = model.predict(X_testing)\n",
        "\n",
        "from sklearn.metrics import accuracy_score\n",
        "acc = accuracy_score(y_testing, predictions)\n",
        "\n",
        "print(acc)\n",
        "\n",
        "from sklearn.metrics import confusion_matrix\n",
        "from sklearn.metrics import ConfusionMatrixDisplay\n",
        "\n",
        "cm = confusion_matrix(y_testing, predictions)\n",
        "cm_display = ConfusionMatrixDisplay(cm).plot()\n"
      ],
      "metadata": {
        "id": "tRQu3diYgH-I",
        "colab": {
          "base_uri": "https://localhost:8080/",
          "height": 472
        },
        "outputId": "20609f0b-3210-4399-e2ba-b730c4a079c9"
      },
      "execution_count": null,
      "outputs": [
        {
          "output_type": "stream",
          "name": "stdout",
          "text": [
            "0.5714285714285714\n"
          ]
        },
        {
          "output_type": "display_data",
          "data": {
            "text/plain": [
              "<Figure size 640x480 with 2 Axes>"
            ],
            "image/png": "[encoded data removed]"
          },
          "metadata": {}
        }
      ]
    },
    {
      "cell_type": "code",
      "source": [],
      "metadata": {
        "id": "quJZ3XIErv5R"
      },
      "execution_count": null,
      "outputs": []
    },
    {
      "cell_type": "code",
      "source": [
        "# Random Forest Regressor\n",
        "from sklearn.ensemble import RandomForestRegressor\n",
        "from sklearn.metrics import mean_absolute_error\n",
        "from sklearn.model_selection import train_test_split\n",
        "\n",
        "X_training, X_testing, y_training, y_testing = train_test_split(\n",
        "    X_main, y_main, test_size=0.3,random_state=42\n",
        ")\n",
        "forest_model = RandomForestRegressor(random_state=1)\n",
        "forest_model.fit(X_training, y_training)\n",
        "\n",
        "predictions = model.predict(X_testing)\n",
        "\n",
        "from sklearn.metrics import accuracy_score\n",
        "acc = accuracy_score(y_testing, predictions)\n",
        "\n",
        "print(acc)\n",
        "\n",
        "from sklearn.metrics import confusion_matrix\n",
        "from sklearn.metrics import ConfusionMatrixDisplay\n",
        "\n",
        "cm = confusion_matrix(y_testing, predictions)\n",
        "cm_display = ConfusionMatrixDisplay(cm).plot()"
      ],
      "metadata": {
        "colab": {
          "base_uri": "https://localhost:8080/",
          "height": 472
        },
        "id": "khHKAw26kwRT",
        "outputId": "cde04cc7-8535-4a95-990b-2a17b2d3b422"
      },
      "execution_count": null,
      "outputs": [
        {
          "output_type": "stream",
          "name": "stdout",
          "text": [
            "0.5185185185185185\n"
          ]
        },
        {
          "output_type": "display_data",
          "data": {
            "text/plain": [
              "<Figure size 640x480 with 2 Axes>"
            ],
            "image/png": "[encoded data removed]"
          },
          "metadata": {}
        }
      ]
    },
    {
      "cell_type": "code",
      "source": [
        "# XGBOOST \n",
        "from xgboost import XGBClassifier\n",
        "from sklearn.metrics import mean_absolute_error\n",
        "from sklearn.model_selection import train_test_split\n",
        "\n",
        "X_training, X_testing, y_training, y_testing = train_test_split(\n",
        "    X_main, y_main, test_size=0.4,random_state=42\n",
        ")\n",
        "XGB_model = XGBClassifier()\n",
        "XGB_model.fit(X_training, y_training)\n",
        "\n",
        "predictions = XGB_model.predict(X_testing)\n",
        "# print(predictions)\n",
        "# print(y_testing)\n",
        "from sklearn.metrics import accuracy_score\n",
        "acc = accuracy_score(y_testing, predictions)\n",
        "\n",
        "print(acc)\n",
        "\n",
        "from sklearn.metrics import confusion_matrix\n",
        "from sklearn.metrics import ConfusionMatrixDisplay\n",
        "\n",
        "cm = confusion_matrix(y_testing, predictions)\n",
        "cm_display = ConfusionMatrixDisplay(cm).plot()"
      ],
      "metadata": {
        "colab": {
          "base_uri": "https://localhost:8080/",
          "height": 472
        },
        "id": "T93VkFrWmB60",
        "outputId": "808a194c-b4cb-4ced-9ccd-a92bd29ba666"
      },
      "execution_count": null,
      "outputs": [
        {
          "output_type": "stream",
          "name": "stdout",
          "text": [
            "0.8\n"
          ]
        },
        {
          "output_type": "display_data",
          "data": {
            "text/plain": [
              "<Figure size 640x480 with 2 Axes>"
            ],
            "image/png": "[encoded data removed]"
          },
          "metadata": {}
        }
      ]
    },
    {
      "cell_type": "code",
      "source": [
        "# XGBOOST with parameter tuning\n",
        "from xgboost import XGBClassifier\n",
        "from sklearn.metrics import mean_absolute_error\n",
        "from sklearn.model_selection import train_test_split\n",
        "\n",
        "X_training, X_testing, y_training, y_testing = train_test_split(\n",
        "    X_main, y_main, test_size=0.4,random_state=42\n",
        ")\n",
        "XGB_model = XGBClassifier(n_estimators=100, learning_rate=0.08, n_jobs=4)\n",
        "XGB_model.fit(X_training, y_training, \n",
        "             early_stopping_rounds=5, \n",
        "             eval_set=[(X_testing, y_testing)],\n",
        "             verbose=False)\n",
        "\n",
        "predictions = XGB_model.predict(X_testing)\n",
        "# print(predictions)\n",
        "# print(y_testing)\n",
        "from sklearn.metrics import accuracy_score\n",
        "acc = accuracy_score(y_testing, predictions)\n",
        "\n",
        "print(acc)\n",
        "\n",
        "from sklearn.metrics import confusion_matrix\n",
        "from sklearn.metrics import ConfusionMatrixDisplay\n",
        "\n",
        "cm = confusion_matrix(y_testing, predictions)\n",
        "cm_display = ConfusionMatrixDisplay(cm).plot()"
      ],
      "metadata": {
        "colab": {
          "base_uri": "https://localhost:8080/",
          "height": 521
        },
        "id": "lmTbn-ufeFA1",
        "outputId": "3b5c42f1-36ed-48b1-b055-5bc4bfaeb208"
      },
      "execution_count": null,
      "outputs": [
        {
          "output_type": "stream",
          "name": "stderr",
          "text": [
            "/usr/local/lib/python3.10/dist-packages/xgboost/sklearn.py:835: UserWarning: `early_stopping_rounds` in `fit` method is deprecated for better compatibility with scikit-learn, use `early_stopping_rounds` in constructor or`set_params` instead.\n",
            "  warnings.warn(\n"
          ]
        },
        {
          "output_type": "stream",
          "name": "stdout",
          "text": [
            "0.8285714285714286\n"
          ]
        },
        {
          "output_type": "display_data",
          "data": {
            "text/plain": [
              "<Figure size 640x480 with 2 Axes>"
            ],
            "image/png": "[encoded data removed]"
          },
          "metadata": {}
        }
      ]
    },
    {
      "cell_type": "code",
      "source": [
        "# Cross validating to make sure model doesn't overfit\n",
        "\n",
        "from sklearn.pipeline import make_pipeline\n",
        "from sklearn.model_selection import cross_val_score\n",
        "\n",
        "# Since there is no preprocessing, we don't need a pipeline (used anyway as best practice!)\n",
        "my_pipeline = make_pipeline(XGBClassifier(n_estimators=100, learning_rate=0.08, n_jobs=4))\n",
        "cv_scores = cross_val_score(my_pipeline, X, y, \n",
        "                            cv=5,\n",
        "                            scoring='accuracy')\n",
        "\n",
        "print(\"Cross-validation accuracy: %f\" % cv_scores.mean())\n",
        "\n"
      ],
      "metadata": {
        "colab": {
          "base_uri": "https://localhost:8080/"
        },
        "id": "R-qSaDy4gBfc",
        "outputId": "f8c27217-eef7-447a-e1c6-692622a13d5a"
      },
      "execution_count": null,
      "outputs": [
        {
          "output_type": "stream",
          "name": "stdout",
          "text": [
            "Cross-validation accuracy: 0.701307\n"
          ]
        }
      ]
    },
    {
      "cell_type": "code",
      "source": [
        "# K fold classification\n",
        "from xgboost import XGBClassifier\n",
        "from sklearn.metrics import mean_absolute_error\n",
        "from sklearn.model_selection import KFold\n",
        "from sklearn.model_selection import cross_val_score\n",
        "\n",
        "# XGB_model_k = XGBClassifier(n_estimators=100, learning_rate=0.08, n_jobs=4)\n",
        "XGB_model_k = XGBClassifier()\n",
        "# XGB_model_k.fit(X_training, y_training)\n",
        "\n",
        "# predictions = XGB_model_k.predict(X_testing)\n",
        "cv = KFold(n_splits=5, shuffle=True, random_state=42)\n",
        "val_score = cross_val_score(XGB_model_k, X=X, y=y, cv=cv)\n",
        "\n",
        "print(val_score)"
      ],
      "metadata": {
        "colab": {
          "base_uri": "https://localhost:8080/"
        },
        "id": "h7qJOzob2OZU",
        "outputId": "ce2891a9-f0ca-4a94-978a-737483c98120"
      },
      "execution_count": null,
      "outputs": [
        {
          "output_type": "stream",
          "name": "stdout",
          "text": [
            "[0.88888889 0.83333333 0.82352941 1.         0.76470588]\n"
          ]
        }
      ]
    }
  ]
}